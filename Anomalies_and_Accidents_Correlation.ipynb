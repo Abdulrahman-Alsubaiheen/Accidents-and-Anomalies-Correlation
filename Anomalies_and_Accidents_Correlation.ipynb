{
  "nbformat": 4,
  "nbformat_minor": 0,
  "metadata": {
    "colab": {
      "name": "Anomalies and Accidents Correlation.ipynb",
      "provenance": [],
      "collapsed_sections": [],
      "toc_visible": true,
      "authorship_tag": "ABX9TyNpOhFNzuGs4PNSk4gposCz",
      "include_colab_link": true
    },
    "kernelspec": {
      "name": "python3",
      "display_name": "Python 3"
    },
    "language_info": {
      "name": "python"
    }
  },
  "cells": [
    {
      "cell_type": "markdown",
      "metadata": {
        "id": "view-in-github",
        "colab_type": "text"
      },
      "source": [
        "<a href=\"https://colab.research.google.com/github/aboXmsa3d/Accidents-and-Anomalies-Correlation/blob/main/Anomalies_and_Accidents_Correlation.ipynb\" target=\"_parent\"><img src=\"https://colab.research.google.com/assets/colab-badge.svg\" alt=\"Open In Colab\"/></a>"
      ]
    },
    {
      "cell_type": "markdown",
      "metadata": {
        "id": "ncKL-3ApxCaO"
      },
      "source": [
        "### General Properties"
      ]
    },
    {
      "cell_type": "markdown",
      "metadata": {
        "id": "RMJ0pgl6-e7y"
      },
      "source": [
        "#### Import Dataset From Google Drive\n",
        "\n"
      ]
    },
    {
      "cell_type": "code",
      "metadata": {
        "colab": {
          "base_uri": "https://localhost:8080/"
        },
        "id": "y0taPIo3Sfyy",
        "outputId": "aef833f4-4086-42ad-a4cf-50c5ba6448c5"
      },
      "source": [
        "from google.colab import drive\n",
        "drive.mount('/content/drive')"
      ],
      "execution_count": null,
      "outputs": [
        {
          "output_type": "stream",
          "name": "stdout",
          "text": [
            "Drive already mounted at /content/drive; to attempt to forcibly remount, call drive.mount(\"/content/drive\", force_remount=True).\n"
          ]
        }
      ]
    },
    {
      "cell_type": "markdown",
      "metadata": {
        "id": "rMBeX6TTuGl2"
      },
      "source": [
        "#### Importing Needed packages"
      ]
    },
    {
      "cell_type": "code",
      "metadata": {
        "id": "jO7SFD4juGl3"
      },
      "source": [
        "import numpy as np\n",
        "import pandas as pd\n",
        "\n",
        "import plotly.express as px\n",
        "import plotly.graph_objects as go\n",
        "\n",
        "import matplotlib.pyplot as plt\n",
        "% matplotlib inline"
      ],
      "execution_count": null,
      "outputs": []
    },
    {
      "cell_type": "markdown",
      "metadata": {
        "id": "yOfhEwDUDDV_"
      },
      "source": [
        "#### Import Datasets"
      ]
    },
    {
      "cell_type": "code",
      "metadata": {
        "id": "lQUWv7SPDLDE"
      },
      "source": [
        "df_accident = pd.read_csv(\"/content/drive/MyDrive/Programming/datasets/GP/accident.csv\")"
      ],
      "execution_count": null,
      "outputs": []
    },
    {
      "cell_type": "code",
      "metadata": {
        "id": "hd9CMmTEER5F"
      },
      "source": [
        "df_anomalie = pd.read_csv(\"/content/drive/MyDrive/Programming/datasets/GP/anomalie.csv\")"
      ],
      "execution_count": null,
      "outputs": []
    },
    {
      "cell_type": "code",
      "metadata": {
        "id": "fNL15RSzIRrx"
      },
      "source": [
        "df_accident = df_accident.rename(columns=lambda x: x.strip())\n",
        "df_anomalie = df_anomalie.rename(columns=lambda x: x.strip())"
      ],
      "execution_count": null,
      "outputs": []
    },
    {
      "cell_type": "code",
      "metadata": {
        "colab": {
          "base_uri": "https://localhost:8080/",
          "height": 665
        },
        "id": "rWv58KCjF5Nk",
        "outputId": "09c20698-b408-4b03-a6a0-016964e90942"
      },
      "source": [
        "df_accident"
      ],
      "execution_count": null,
      "outputs": [
        {
          "output_type": "execute_result",
          "data": {
            "text/html": [
              "<div>\n",
              "<style scoped>\n",
              "    .dataframe tbody tr th:only-of-type {\n",
              "        vertical-align: middle;\n",
              "    }\n",
              "\n",
              "    .dataframe tbody tr th {\n",
              "        vertical-align: top;\n",
              "    }\n",
              "\n",
              "    .dataframe thead th {\n",
              "        text-align: right;\n",
              "    }\n",
              "</style>\n",
              "<table border=\"1\" class=\"dataframe\">\n",
              "  <thead>\n",
              "    <tr style=\"text-align: right;\">\n",
              "      <th></th>\n",
              "      <th>id</th>\n",
              "      <th>latitude</th>\n",
              "      <th>longitude</th>\n",
              "    </tr>\n",
              "  </thead>\n",
              "  <tbody>\n",
              "    <tr>\n",
              "      <th>0</th>\n",
              "      <td>1</td>\n",
              "      <td>24.72221</td>\n",
              "      <td>46.61561</td>\n",
              "    </tr>\n",
              "    <tr>\n",
              "      <th>1</th>\n",
              "      <td>2</td>\n",
              "      <td>24.72543</td>\n",
              "      <td>46.61578</td>\n",
              "    </tr>\n",
              "    <tr>\n",
              "      <th>2</th>\n",
              "      <td>3</td>\n",
              "      <td>24.72830</td>\n",
              "      <td>46.61579</td>\n",
              "    </tr>\n",
              "    <tr>\n",
              "      <th>3</th>\n",
              "      <td>4</td>\n",
              "      <td>24.72217</td>\n",
              "      <td>46.61101</td>\n",
              "    </tr>\n",
              "    <tr>\n",
              "      <th>4</th>\n",
              "      <td>5</td>\n",
              "      <td>24.72224</td>\n",
              "      <td>46.61535</td>\n",
              "    </tr>\n",
              "    <tr>\n",
              "      <th>5</th>\n",
              "      <td>6</td>\n",
              "      <td>24.72214</td>\n",
              "      <td>46.61541</td>\n",
              "    </tr>\n",
              "    <tr>\n",
              "      <th>6</th>\n",
              "      <td>7</td>\n",
              "      <td>24.72214</td>\n",
              "      <td>46.61519</td>\n",
              "    </tr>\n",
              "    <tr>\n",
              "      <th>7</th>\n",
              "      <td>8</td>\n",
              "      <td>24.73039</td>\n",
              "      <td>46.61412</td>\n",
              "    </tr>\n",
              "    <tr>\n",
              "      <th>8</th>\n",
              "      <td>9</td>\n",
              "      <td>24.73033</td>\n",
              "      <td>46.61414</td>\n",
              "    </tr>\n",
              "    <tr>\n",
              "      <th>9</th>\n",
              "      <td>10</td>\n",
              "      <td>24.73042</td>\n",
              "      <td>46.61403</td>\n",
              "    </tr>\n",
              "    <tr>\n",
              "      <th>10</th>\n",
              "      <td>11</td>\n",
              "      <td>24.73031</td>\n",
              "      <td>46.61410</td>\n",
              "    </tr>\n",
              "    <tr>\n",
              "      <th>11</th>\n",
              "      <td>12</td>\n",
              "      <td>24.73015</td>\n",
              "      <td>46.61411</td>\n",
              "    </tr>\n",
              "    <tr>\n",
              "      <th>12</th>\n",
              "      <td>13</td>\n",
              "      <td>24.72780</td>\n",
              "      <td>46.62299</td>\n",
              "    </tr>\n",
              "    <tr>\n",
              "      <th>13</th>\n",
              "      <td>14</td>\n",
              "      <td>24.72568</td>\n",
              "      <td>46.62435</td>\n",
              "    </tr>\n",
              "    <tr>\n",
              "      <th>14</th>\n",
              "      <td>15</td>\n",
              "      <td>24.72381</td>\n",
              "      <td>46.62276</td>\n",
              "    </tr>\n",
              "    <tr>\n",
              "      <th>15</th>\n",
              "      <td>16</td>\n",
              "      <td>24.71672</td>\n",
              "      <td>46.61525</td>\n",
              "    </tr>\n",
              "    <tr>\n",
              "      <th>16</th>\n",
              "      <td>17</td>\n",
              "      <td>24.72856</td>\n",
              "      <td>46.62706</td>\n",
              "    </tr>\n",
              "    <tr>\n",
              "      <th>17</th>\n",
              "      <td>18</td>\n",
              "      <td>24.72565</td>\n",
              "      <td>46.63041</td>\n",
              "    </tr>\n",
              "    <tr>\n",
              "      <th>18</th>\n",
              "      <td>19</td>\n",
              "      <td>24.72939</td>\n",
              "      <td>46.63137</td>\n",
              "    </tr>\n",
              "    <tr>\n",
              "      <th>19</th>\n",
              "      <td>20</td>\n",
              "      <td>24.71611</td>\n",
              "      <td>46.61472</td>\n",
              "    </tr>\n",
              "  </tbody>\n",
              "</table>\n",
              "</div>"
            ],
            "text/plain": [
              "    id  latitude  longitude\n",
              "0    1  24.72221   46.61561\n",
              "1    2  24.72543   46.61578\n",
              "2    3  24.72830   46.61579\n",
              "3    4  24.72217   46.61101\n",
              "4    5  24.72224   46.61535\n",
              "5    6  24.72214   46.61541\n",
              "6    7  24.72214   46.61519\n",
              "7    8  24.73039   46.61412\n",
              "8    9  24.73033   46.61414\n",
              "9   10  24.73042   46.61403\n",
              "10  11  24.73031   46.61410\n",
              "11  12  24.73015   46.61411\n",
              "12  13  24.72780   46.62299\n",
              "13  14  24.72568   46.62435\n",
              "14  15  24.72381   46.62276\n",
              "15  16  24.71672   46.61525\n",
              "16  17  24.72856   46.62706\n",
              "17  18  24.72565   46.63041\n",
              "18  19  24.72939   46.63137\n",
              "19  20  24.71611   46.61472"
            ]
          },
          "metadata": {},
          "execution_count": 44
        }
      ]
    },
    {
      "cell_type": "code",
      "metadata": {
        "colab": {
          "base_uri": "https://localhost:8080/",
          "height": 665
        },
        "id": "Z7mjYD7DGtBG",
        "outputId": "95705fb9-29d6-4b97-c072-13533c5ae9a4"
      },
      "source": [
        "df_anomalie"
      ],
      "execution_count": null,
      "outputs": [
        {
          "output_type": "execute_result",
          "data": {
            "text/html": [
              "<div>\n",
              "<style scoped>\n",
              "    .dataframe tbody tr th:only-of-type {\n",
              "        vertical-align: middle;\n",
              "    }\n",
              "\n",
              "    .dataframe tbody tr th {\n",
              "        vertical-align: top;\n",
              "    }\n",
              "\n",
              "    .dataframe thead th {\n",
              "        text-align: right;\n",
              "    }\n",
              "</style>\n",
              "<table border=\"1\" class=\"dataframe\">\n",
              "  <thead>\n",
              "    <tr style=\"text-align: right;\">\n",
              "      <th></th>\n",
              "      <th>id</th>\n",
              "      <th>latitude</th>\n",
              "      <th>longitude</th>\n",
              "    </tr>\n",
              "  </thead>\n",
              "  <tbody>\n",
              "    <tr>\n",
              "      <th>0</th>\n",
              "      <td>1</td>\n",
              "      <td>24.72214</td>\n",
              "      <td>46.615240</td>\n",
              "    </tr>\n",
              "    <tr>\n",
              "      <th>1</th>\n",
              "      <td>2</td>\n",
              "      <td>24.72532</td>\n",
              "      <td>46.615810</td>\n",
              "    </tr>\n",
              "    <tr>\n",
              "      <th>2</th>\n",
              "      <td>3</td>\n",
              "      <td>24.72680</td>\n",
              "      <td>46.615790</td>\n",
              "    </tr>\n",
              "    <tr>\n",
              "      <th>3</th>\n",
              "      <td>4</td>\n",
              "      <td>24.73034</td>\n",
              "      <td>46.614050</td>\n",
              "    </tr>\n",
              "    <tr>\n",
              "      <th>4</th>\n",
              "      <td>5</td>\n",
              "      <td>24.73096</td>\n",
              "      <td>46.620810</td>\n",
              "    </tr>\n",
              "    <tr>\n",
              "      <th>5</th>\n",
              "      <td>6</td>\n",
              "      <td>24.73052</td>\n",
              "      <td>46.628210</td>\n",
              "    </tr>\n",
              "    <tr>\n",
              "      <th>6</th>\n",
              "      <td>7</td>\n",
              "      <td>24.72824</td>\n",
              "      <td>46.630070</td>\n",
              "    </tr>\n",
              "    <tr>\n",
              "      <th>7</th>\n",
              "      <td>8</td>\n",
              "      <td>24.72428</td>\n",
              "      <td>46.631410</td>\n",
              "    </tr>\n",
              "    <tr>\n",
              "      <th>8</th>\n",
              "      <td>9</td>\n",
              "      <td>24.72327</td>\n",
              "      <td>46.624980</td>\n",
              "    </tr>\n",
              "    <tr>\n",
              "      <th>9</th>\n",
              "      <td>10</td>\n",
              "      <td>24.73204</td>\n",
              "      <td>46.618050</td>\n",
              "    </tr>\n",
              "    <tr>\n",
              "      <th>10</th>\n",
              "      <td>11</td>\n",
              "      <td>24.73237</td>\n",
              "      <td>46.615790</td>\n",
              "    </tr>\n",
              "    <tr>\n",
              "      <th>11</th>\n",
              "      <td>12</td>\n",
              "      <td>24.73135</td>\n",
              "      <td>46.623870</td>\n",
              "    </tr>\n",
              "    <tr>\n",
              "      <th>12</th>\n",
              "      <td>13</td>\n",
              "      <td>24.72705</td>\n",
              "      <td>46.624530</td>\n",
              "    </tr>\n",
              "    <tr>\n",
              "      <th>13</th>\n",
              "      <td>14</td>\n",
              "      <td>24.72224</td>\n",
              "      <td>46.615466</td>\n",
              "    </tr>\n",
              "    <tr>\n",
              "      <th>14</th>\n",
              "      <td>15</td>\n",
              "      <td>24.72493</td>\n",
              "      <td>46.611290</td>\n",
              "    </tr>\n",
              "    <tr>\n",
              "      <th>15</th>\n",
              "      <td>16</td>\n",
              "      <td>24.72534</td>\n",
              "      <td>46.613750</td>\n",
              "    </tr>\n",
              "    <tr>\n",
              "      <th>16</th>\n",
              "      <td>17</td>\n",
              "      <td>24.71449</td>\n",
              "      <td>46.620820</td>\n",
              "    </tr>\n",
              "    <tr>\n",
              "      <th>17</th>\n",
              "      <td>18</td>\n",
              "      <td>24.71728</td>\n",
              "      <td>46.612030</td>\n",
              "    </tr>\n",
              "    <tr>\n",
              "      <th>18</th>\n",
              "      <td>19</td>\n",
              "      <td>24.73026</td>\n",
              "      <td>46.614140</td>\n",
              "    </tr>\n",
              "    <tr>\n",
              "      <th>19</th>\n",
              "      <td>20</td>\n",
              "      <td>24.72866</td>\n",
              "      <td>46.615790</td>\n",
              "    </tr>\n",
              "  </tbody>\n",
              "</table>\n",
              "</div>"
            ],
            "text/plain": [
              "    id  latitude  longitude\n",
              "0    1  24.72214  46.615240\n",
              "1    2  24.72532  46.615810\n",
              "2    3  24.72680  46.615790\n",
              "3    4  24.73034  46.614050\n",
              "4    5  24.73096  46.620810\n",
              "5    6  24.73052  46.628210\n",
              "6    7  24.72824  46.630070\n",
              "7    8  24.72428  46.631410\n",
              "8    9  24.72327  46.624980\n",
              "9   10  24.73204  46.618050\n",
              "10  11  24.73237  46.615790\n",
              "11  12  24.73135  46.623870\n",
              "12  13  24.72705  46.624530\n",
              "13  14  24.72224  46.615466\n",
              "14  15  24.72493  46.611290\n",
              "15  16  24.72534  46.613750\n",
              "16  17  24.71449  46.620820\n",
              "17  18  24.71728  46.612030\n",
              "18  19  24.73026  46.614140\n",
              "19  20  24.72866  46.615790"
            ]
          },
          "metadata": {},
          "execution_count": 45
        }
      ]
    },
    {
      "cell_type": "markdown",
      "metadata": {
        "id": "5MwUaHduihnv"
      },
      "source": [
        "# Exploratory Data Analysis"
      ]
    },
    {
      "cell_type": "markdown",
      "metadata": {
        "id": "hOrL8xy_wMjj"
      },
      "source": [
        "### Calculate the distance between two pointson"
      ]
    },
    {
      "cell_type": "code",
      "metadata": {
        "id": "KFXXFmUxubZS"
      },
      "source": [
        "# Helper Function\n",
        "def haversine_np(lat1, lon1, lat2, lon2 , anamoly_id):\n",
        "    \"\"\"\n",
        "    Calculate the great circle distance between two pointson the earth\n",
        "    \"\"\"\n",
        "    lat1, lon1, lat2, lon2 = map(np.radians, [lat1, lon1, lat2, lon2])\n",
        "\n",
        "    dlat = lat2 - lat1\n",
        "    dlon = lon2 - lon1\n",
        "\n",
        "    a = np.sin(dlat/2.0)**2 + np.cos(lat1) * np.cos(lat2) * np.sin(dlon/2.0)**2\n",
        "\n",
        "    c = 2 * np.arcsin(np.sqrt(a))\n",
        "    distance = 6367 * c * 1000\n",
        "    return pd.Series([anamoly_id, distance], index=['id', 'distance'] ) # in metter"
      ],
      "execution_count": null,
      "outputs": []
    },
    {
      "cell_type": "code",
      "metadata": {
        "id": "IMfJqDcki23a"
      },
      "source": [
        "# haversine_np(24.7221493\t, 46.6152429 , 24.7221468 , 46.6145546)\n",
        "\n",
        "# https://www.google.com/maps/dir/24.7221493,46.6152429/24.7221468,46.6145546/@24.7220957,46.6149714,20.91z/data=!4m2!4m1!3e2"
      ],
      "execution_count": null,
      "outputs": []
    },
    {
      "cell_type": "markdown",
      "metadata": {
        "id": "RM2BMHHwwReS"
      },
      "source": [
        "### Get the closest anomalie for each accident"
      ]
    },
    {
      "cell_type": "code",
      "metadata": {
        "colab": {
          "base_uri": "https://localhost:8080/",
          "height": 665
        },
        "id": "VZMdeSkbzhp3",
        "outputId": "53bac5fb-0cf3-4794-e644-6c08753b7edf"
      },
      "source": [
        "for index, accident in df_accident.iterrows():\n",
        "\n",
        "    df_closest_anomalie = df_anomalie.apply(lambda anomalie: haversine_np(accident[\"latitude\"] , accident[\"longitude\"] , anomalie[\"latitude\"] , anomalie[\"longitude\"], anomalie[\"id\"]), axis=1)\n",
        "\n",
        "    idx = df_closest_anomalie['distance'].idxmin()\n",
        "\n",
        "    df_accident.loc[index,'closest_anomalie_id'] = df_closest_anomalie['id'].loc[idx,]\n",
        "    df_accident.loc[index,'closest_anomalie_distance'] = df_closest_anomalie['distance'].loc[idx,]\n",
        "\n",
        "df_accident"
      ],
      "execution_count": null,
      "outputs": [
        {
          "output_type": "execute_result",
          "data": {
            "text/html": [
              "<div>\n",
              "<style scoped>\n",
              "    .dataframe tbody tr th:only-of-type {\n",
              "        vertical-align: middle;\n",
              "    }\n",
              "\n",
              "    .dataframe tbody tr th {\n",
              "        vertical-align: top;\n",
              "    }\n",
              "\n",
              "    .dataframe thead th {\n",
              "        text-align: right;\n",
              "    }\n",
              "</style>\n",
              "<table border=\"1\" class=\"dataframe\">\n",
              "  <thead>\n",
              "    <tr style=\"text-align: right;\">\n",
              "      <th></th>\n",
              "      <th>id</th>\n",
              "      <th>latitude</th>\n",
              "      <th>longitude</th>\n",
              "      <th>closest_anomalie_id</th>\n",
              "      <th>closest_anomalie_distance</th>\n",
              "    </tr>\n",
              "  </thead>\n",
              "  <tbody>\n",
              "    <tr>\n",
              "      <th>0</th>\n",
              "      <td>1</td>\n",
              "      <td>24.72221</td>\n",
              "      <td>46.61561</td>\n",
              "      <td>14.0</td>\n",
              "      <td>14.912774</td>\n",
              "    </tr>\n",
              "    <tr>\n",
              "      <th>1</th>\n",
              "      <td>2</td>\n",
              "      <td>24.72543</td>\n",
              "      <td>46.61578</td>\n",
              "      <td>2.0</td>\n",
              "      <td>12.593249</td>\n",
              "    </tr>\n",
              "    <tr>\n",
              "      <th>2</th>\n",
              "      <td>3</td>\n",
              "      <td>24.72830</td>\n",
              "      <td>46.61579</td>\n",
              "      <td>20.0</td>\n",
              "      <td>40.005041</td>\n",
              "    </tr>\n",
              "    <tr>\n",
              "      <th>3</th>\n",
              "      <td>4</td>\n",
              "      <td>24.72217</td>\n",
              "      <td>46.61101</td>\n",
              "      <td>15.0</td>\n",
              "      <td>308.004775</td>\n",
              "    </tr>\n",
              "    <tr>\n",
              "      <th>4</th>\n",
              "      <td>5</td>\n",
              "      <td>24.72224</td>\n",
              "      <td>46.61535</td>\n",
              "      <td>14.0</td>\n",
              "      <td>11.709045</td>\n",
              "    </tr>\n",
              "    <tr>\n",
              "      <th>5</th>\n",
              "      <td>6</td>\n",
              "      <td>24.72214</td>\n",
              "      <td>46.61541</td>\n",
              "      <td>14.0</td>\n",
              "      <td>12.467570</td>\n",
              "    </tr>\n",
              "    <tr>\n",
              "      <th>6</th>\n",
              "      <td>7</td>\n",
              "      <td>24.72214</td>\n",
              "      <td>46.61519</td>\n",
              "      <td>1.0</td>\n",
              "      <td>5.047006</td>\n",
              "    </tr>\n",
              "    <tr>\n",
              "      <th>7</th>\n",
              "      <td>8</td>\n",
              "      <td>24.73039</td>\n",
              "      <td>46.61412</td>\n",
              "      <td>4.0</td>\n",
              "      <td>8.988383</td>\n",
              "    </tr>\n",
              "    <tr>\n",
              "      <th>8</th>\n",
              "      <td>9</td>\n",
              "      <td>24.73033</td>\n",
              "      <td>46.61414</td>\n",
              "      <td>19.0</td>\n",
              "      <td>7.778758</td>\n",
              "    </tr>\n",
              "    <tr>\n",
              "      <th>9</th>\n",
              "      <td>10</td>\n",
              "      <td>24.73042</td>\n",
              "      <td>46.61403</td>\n",
              "      <td>4.0</td>\n",
              "      <td>9.116320</td>\n",
              "    </tr>\n",
              "    <tr>\n",
              "      <th>10</th>\n",
              "      <td>11</td>\n",
              "      <td>24.73031</td>\n",
              "      <td>46.61410</td>\n",
              "      <td>4.0</td>\n",
              "      <td>6.048374</td>\n",
              "    </tr>\n",
              "    <tr>\n",
              "      <th>11</th>\n",
              "      <td>12</td>\n",
              "      <td>24.73015</td>\n",
              "      <td>46.61411</td>\n",
              "      <td>19.0</td>\n",
              "      <td>12.593220</td>\n",
              "    </tr>\n",
              "    <tr>\n",
              "      <th>12</th>\n",
              "      <td>13</td>\n",
              "      <td>24.72780</td>\n",
              "      <td>46.62299</td>\n",
              "      <td>13.0</td>\n",
              "      <td>176.375048</td>\n",
              "    </tr>\n",
              "    <tr>\n",
              "      <th>13</th>\n",
              "      <td>14</td>\n",
              "      <td>24.72568</td>\n",
              "      <td>46.62435</td>\n",
              "      <td>13.0</td>\n",
              "      <td>153.321700</td>\n",
              "    </tr>\n",
              "    <tr>\n",
              "      <th>14</th>\n",
              "      <td>15</td>\n",
              "      <td>24.72381</td>\n",
              "      <td>46.62276</td>\n",
              "      <td>9.0</td>\n",
              "      <td>231.980159</td>\n",
              "    </tr>\n",
              "    <tr>\n",
              "      <th>15</th>\n",
              "      <td>16</td>\n",
              "      <td>24.71672</td>\n",
              "      <td>46.61525</td>\n",
              "      <td>18.0</td>\n",
              "      <td>330.944083</td>\n",
              "    </tr>\n",
              "    <tr>\n",
              "      <th>16</th>\n",
              "      <td>17</td>\n",
              "      <td>24.72856</td>\n",
              "      <td>46.62706</td>\n",
              "      <td>6.0</td>\n",
              "      <td>246.804262</td>\n",
              "    </tr>\n",
              "    <tr>\n",
              "      <th>17</th>\n",
              "      <td>18</td>\n",
              "      <td>24.72565</td>\n",
              "      <td>46.63041</td>\n",
              "      <td>8.0</td>\n",
              "      <td>182.663328</td>\n",
              "    </tr>\n",
              "    <tr>\n",
              "      <th>18</th>\n",
              "      <td>19</td>\n",
              "      <td>24.72939</td>\n",
              "      <td>46.63137</td>\n",
              "      <td>7.0</td>\n",
              "      <td>183.162998</td>\n",
              "    </tr>\n",
              "    <tr>\n",
              "      <th>19</th>\n",
              "      <td>20</td>\n",
              "      <td>24.71611</td>\n",
              "      <td>46.61472</td>\n",
              "      <td>18.0</td>\n",
              "      <td>301.062572</td>\n",
              "    </tr>\n",
              "  </tbody>\n",
              "</table>\n",
              "</div>"
            ],
            "text/plain": [
              "    id  latitude  longitude  closest_anomalie_id  closest_anomalie_distance\n",
              "0    1  24.72221   46.61561                 14.0                  14.912774\n",
              "1    2  24.72543   46.61578                  2.0                  12.593249\n",
              "2    3  24.72830   46.61579                 20.0                  40.005041\n",
              "3    4  24.72217   46.61101                 15.0                 308.004775\n",
              "4    5  24.72224   46.61535                 14.0                  11.709045\n",
              "5    6  24.72214   46.61541                 14.0                  12.467570\n",
              "6    7  24.72214   46.61519                  1.0                   5.047006\n",
              "7    8  24.73039   46.61412                  4.0                   8.988383\n",
              "8    9  24.73033   46.61414                 19.0                   7.778758\n",
              "9   10  24.73042   46.61403                  4.0                   9.116320\n",
              "10  11  24.73031   46.61410                  4.0                   6.048374\n",
              "11  12  24.73015   46.61411                 19.0                  12.593220\n",
              "12  13  24.72780   46.62299                 13.0                 176.375048\n",
              "13  14  24.72568   46.62435                 13.0                 153.321700\n",
              "14  15  24.72381   46.62276                  9.0                 231.980159\n",
              "15  16  24.71672   46.61525                 18.0                 330.944083\n",
              "16  17  24.72856   46.62706                  6.0                 246.804262\n",
              "17  18  24.72565   46.63041                  8.0                 182.663328\n",
              "18  19  24.72939   46.63137                  7.0                 183.162998\n",
              "19  20  24.71611   46.61472                 18.0                 301.062572"
            ]
          },
          "metadata": {},
          "execution_count": 48
        }
      ]
    },
    {
      "cell_type": "markdown",
      "metadata": {
        "id": "C4cui1O2weH9"
      },
      "source": [
        "### Select accident due to anomalie"
      ]
    },
    {
      "cell_type": "code",
      "metadata": {
        "colab": {
          "base_uri": "https://localhost:8080/",
          "height": 203
        },
        "id": "lfdDO_cpuooL",
        "outputId": "e8b7f3b5-242f-422b-f514-e0b71f7c5227"
      },
      "source": [
        "df_accident_due_to_anomalie = df_accident[df_accident['closest_anomalie_distance'] <= 10]\n",
        "df_accident_due_to_anomalie"
      ],
      "execution_count": null,
      "outputs": [
        {
          "output_type": "execute_result",
          "data": {
            "text/html": [
              "<div>\n",
              "<style scoped>\n",
              "    .dataframe tbody tr th:only-of-type {\n",
              "        vertical-align: middle;\n",
              "    }\n",
              "\n",
              "    .dataframe tbody tr th {\n",
              "        vertical-align: top;\n",
              "    }\n",
              "\n",
              "    .dataframe thead th {\n",
              "        text-align: right;\n",
              "    }\n",
              "</style>\n",
              "<table border=\"1\" class=\"dataframe\">\n",
              "  <thead>\n",
              "    <tr style=\"text-align: right;\">\n",
              "      <th></th>\n",
              "      <th>id</th>\n",
              "      <th>latitude</th>\n",
              "      <th>longitude</th>\n",
              "      <th>closest_anomalie_id</th>\n",
              "      <th>closest_anomalie_distance</th>\n",
              "    </tr>\n",
              "  </thead>\n",
              "  <tbody>\n",
              "    <tr>\n",
              "      <th>6</th>\n",
              "      <td>7</td>\n",
              "      <td>24.72214</td>\n",
              "      <td>46.61519</td>\n",
              "      <td>1.0</td>\n",
              "      <td>5.047006</td>\n",
              "    </tr>\n",
              "    <tr>\n",
              "      <th>7</th>\n",
              "      <td>8</td>\n",
              "      <td>24.73039</td>\n",
              "      <td>46.61412</td>\n",
              "      <td>4.0</td>\n",
              "      <td>8.988383</td>\n",
              "    </tr>\n",
              "    <tr>\n",
              "      <th>8</th>\n",
              "      <td>9</td>\n",
              "      <td>24.73033</td>\n",
              "      <td>46.61414</td>\n",
              "      <td>19.0</td>\n",
              "      <td>7.778758</td>\n",
              "    </tr>\n",
              "    <tr>\n",
              "      <th>9</th>\n",
              "      <td>10</td>\n",
              "      <td>24.73042</td>\n",
              "      <td>46.61403</td>\n",
              "      <td>4.0</td>\n",
              "      <td>9.116320</td>\n",
              "    </tr>\n",
              "    <tr>\n",
              "      <th>10</th>\n",
              "      <td>11</td>\n",
              "      <td>24.73031</td>\n",
              "      <td>46.61410</td>\n",
              "      <td>4.0</td>\n",
              "      <td>6.048374</td>\n",
              "    </tr>\n",
              "  </tbody>\n",
              "</table>\n",
              "</div>"
            ],
            "text/plain": [
              "    id  latitude  longitude  closest_anomalie_id  closest_anomalie_distance\n",
              "6    7  24.72214   46.61519                  1.0                   5.047006\n",
              "7    8  24.73039   46.61412                  4.0                   8.988383\n",
              "8    9  24.73033   46.61414                 19.0                   7.778758\n",
              "9   10  24.73042   46.61403                  4.0                   9.116320\n",
              "10  11  24.73031   46.61410                  4.0                   6.048374"
            ]
          },
          "metadata": {},
          "execution_count": 49
        }
      ]
    },
    {
      "cell_type": "code",
      "metadata": {
        "colab": {
          "base_uri": "https://localhost:8080/",
          "height": 203
        },
        "id": "FB9MEDQtviDG",
        "outputId": "8ad5f057-6290-4107-ddb0-0994ba55eb8d"
      },
      "source": [
        "df_accident_due_to_anomalie = pd.merge(df_accident_due_to_anomalie, df_anomalie, \n",
        "                                       left_on=\"closest_anomalie_id\", right_on=\"id\",\n",
        "                                       how=\"left\", suffixes=(\"_accident\", \"_anomalie\"),)\n",
        "df_accident_due_to_anomalie"
      ],
      "execution_count": null,
      "outputs": [
        {
          "output_type": "execute_result",
          "data": {
            "text/html": [
              "<div>\n",
              "<style scoped>\n",
              "    .dataframe tbody tr th:only-of-type {\n",
              "        vertical-align: middle;\n",
              "    }\n",
              "\n",
              "    .dataframe tbody tr th {\n",
              "        vertical-align: top;\n",
              "    }\n",
              "\n",
              "    .dataframe thead th {\n",
              "        text-align: right;\n",
              "    }\n",
              "</style>\n",
              "<table border=\"1\" class=\"dataframe\">\n",
              "  <thead>\n",
              "    <tr style=\"text-align: right;\">\n",
              "      <th></th>\n",
              "      <th>id_accident</th>\n",
              "      <th>latitude_accident</th>\n",
              "      <th>longitude_accident</th>\n",
              "      <th>closest_anomalie_id</th>\n",
              "      <th>closest_anomalie_distance</th>\n",
              "      <th>id_anomalie</th>\n",
              "      <th>latitude_anomalie</th>\n",
              "      <th>longitude_anomalie</th>\n",
              "    </tr>\n",
              "  </thead>\n",
              "  <tbody>\n",
              "    <tr>\n",
              "      <th>0</th>\n",
              "      <td>7</td>\n",
              "      <td>24.72214</td>\n",
              "      <td>46.61519</td>\n",
              "      <td>1.0</td>\n",
              "      <td>5.047006</td>\n",
              "      <td>1</td>\n",
              "      <td>24.72214</td>\n",
              "      <td>46.61524</td>\n",
              "    </tr>\n",
              "    <tr>\n",
              "      <th>1</th>\n",
              "      <td>8</td>\n",
              "      <td>24.73039</td>\n",
              "      <td>46.61412</td>\n",
              "      <td>4.0</td>\n",
              "      <td>8.988383</td>\n",
              "      <td>4</td>\n",
              "      <td>24.73034</td>\n",
              "      <td>46.61405</td>\n",
              "    </tr>\n",
              "    <tr>\n",
              "      <th>2</th>\n",
              "      <td>9</td>\n",
              "      <td>24.73033</td>\n",
              "      <td>46.61414</td>\n",
              "      <td>19.0</td>\n",
              "      <td>7.778758</td>\n",
              "      <td>19</td>\n",
              "      <td>24.73026</td>\n",
              "      <td>46.61414</td>\n",
              "    </tr>\n",
              "    <tr>\n",
              "      <th>3</th>\n",
              "      <td>10</td>\n",
              "      <td>24.73042</td>\n",
              "      <td>46.61403</td>\n",
              "      <td>4.0</td>\n",
              "      <td>9.116320</td>\n",
              "      <td>4</td>\n",
              "      <td>24.73034</td>\n",
              "      <td>46.61405</td>\n",
              "    </tr>\n",
              "    <tr>\n",
              "      <th>4</th>\n",
              "      <td>11</td>\n",
              "      <td>24.73031</td>\n",
              "      <td>46.61410</td>\n",
              "      <td>4.0</td>\n",
              "      <td>6.048374</td>\n",
              "      <td>4</td>\n",
              "      <td>24.73034</td>\n",
              "      <td>46.61405</td>\n",
              "    </tr>\n",
              "  </tbody>\n",
              "</table>\n",
              "</div>"
            ],
            "text/plain": [
              "   id_accident  latitude_accident  ...  latitude_anomalie  longitude_anomalie\n",
              "0            7           24.72214  ...           24.72214            46.61524\n",
              "1            8           24.73039  ...           24.73034            46.61405\n",
              "2            9           24.73033  ...           24.73026            46.61414\n",
              "3           10           24.73042  ...           24.73034            46.61405\n",
              "4           11           24.73031  ...           24.73034            46.61405\n",
              "\n",
              "[5 rows x 8 columns]"
            ]
          },
          "metadata": {},
          "execution_count": 50
        }
      ]
    },
    {
      "cell_type": "markdown",
      "metadata": {
        "id": "kI0Uhz11ODqv"
      },
      "source": [
        "# Visualization"
      ]
    },
    {
      "cell_type": "markdown",
      "metadata": {
        "id": "OkfqjxhZvY3L"
      },
      "source": [
        "## All Accidents and Anomalies"
      ]
    },
    {
      "cell_type": "code",
      "metadata": {
        "id": "ZEGPyUaXzra0",
        "colab": {
          "base_uri": "https://localhost:8080/",
          "height": 542
        },
        "outputId": "7151952a-007f-47a4-d8b3-4c9cfb02f917"
      },
      "source": [
        "fig = go.Figure()\n",
        "fig.add_traces(\n",
        "    go.Scattermapbox(\n",
        "        lat=df_accident['latitude'],\n",
        "        lon=df_accident['longitude'],\n",
        "        mode='markers',\n",
        "        name = \"Accident\",\n",
        "        hovertext=\"Accident\",\n",
        "        marker_size=10,\n",
        "    )\n",
        ")\n",
        "fig.add_traces(\n",
        "    go.Scattermapbox(\n",
        "        lat=df_anomalie['latitude'],\n",
        "        lon=df_anomalie['longitude'],\n",
        "        mode='markers',\n",
        "        name = \"Anomalie\",\n",
        "        hovertext=\"Anomalie\",\n",
        "        marker_size=10,\n",
        "    )\n",
        ")\n",
        "  \n",
        "for index, row in df_accident_due_to_anomalie.iterrows():\n",
        "  fig.add_traces(\n",
        "    go.Scattermapbox(\n",
        "        lat=[row.latitude_accident,row.latitude_anomalie],\n",
        "        lon=[row.longitude_accident,row.longitude_anomalie],\n",
        "        mode='lines',\n",
        "        name = \"link\",\n",
        "        line_width = 2.5 ,\n",
        "        line_color = \"red\",\n",
        "        showlegend = False,\n",
        "        hoverinfo = \"skip\",\n",
        "      )\n",
        ")\n",
        "\n",
        "fig.update_layout(\n",
        "    mapbox=dict(\n",
        "        accesstoken=\"pk.eyJ1IjoiYWJveG1zYTNkIiwiYSI6ImNrdmcyam9veTAxYXcyb29kY3B1d2E4YnkifQ.aUL_zd92ZIrJtUxaHIvDqw\", #\n",
        "        center=go.layout.mapbox.Center(lat=24.72381, lon=46.6276),\n",
        "        zoom=13.5,\n",
        "    )\n",
        ")\n",
        "\n",
        "fig.show()"
      ],
      "execution_count": null,
      "outputs": [
        {
          "output_type": "display_data",
          "data": {
            "text/html": [
              "<html>\n",
              "<head><meta charset=\"utf-8\" /></head>\n",
              "<body>\n",
              "    <div>\n",
              "            <script src=\"https://cdnjs.cloudflare.com/ajax/libs/mathjax/2.7.5/MathJax.js?config=TeX-AMS-MML_SVG\"></script><script type=\"text/javascript\">if (window.MathJax) {MathJax.Hub.Config({SVG: {font: \"STIX-Web\"}});}</script>\n",
              "                <script type=\"text/javascript\">window.PlotlyConfig = {MathJaxConfig: 'local'};</script>\n",
              "        <script src=\"https://cdn.plot.ly/plotly-latest.min.js\"></script>    \n",
              "            <div id=\"27ad1eb9-3f49-4b50-8934-65f02f6f5575\" class=\"plotly-graph-div\" style=\"height:525px; width:100%;\"></div>\n",
              "            <script type=\"text/javascript\">\n",
              "                \n",
              "                    window.PLOTLYENV=window.PLOTLYENV || {};\n",
              "                    \n",
              "                if (document.getElementById(\"27ad1eb9-3f49-4b50-8934-65f02f6f5575\")) {\n",
              "                    Plotly.newPlot(\n",
              "                        '27ad1eb9-3f49-4b50-8934-65f02f6f5575',\n",
              "                        [{\"hovertext\": \"Accident\", \"lat\": [24.72221, 24.72543, 24.7283, 24.72217, 24.72224, 24.72214, 24.72214, 24.73039, 24.73033, 24.73042, 24.73031, 24.73015, 24.7278, 24.72568, 24.72381, 24.71672, 24.72856, 24.72565, 24.72939, 24.71611], \"lon\": [46.61561, 46.61578, 46.61579, 46.61101, 46.61535, 46.61541, 46.61519000000001, 46.61412, 46.61414, 46.61403, 46.6141, 46.61411, 46.62299, 46.62435, 46.62276, 46.61525, 46.62706, 46.63041, 46.63137, 46.61472], \"marker\": {\"size\": 10}, \"mode\": \"markers\", \"name\": \"Accident\", \"type\": \"scattermapbox\"}, {\"hovertext\": \"Anomalie\", \"lat\": [24.72214, 24.72532, 24.7268, 24.73034, 24.73096, 24.73052, 24.72824, 24.72428, 24.72327, 24.73204, 24.73237, 24.73135, 24.72705, 24.72224, 24.72493, 24.72534, 24.71449, 24.71728, 24.73026, 24.72866], \"lon\": [46.61524, 46.61581, 46.61579, 46.61405, 46.62081, 46.62821, 46.63007, 46.63141, 46.62498, 46.61805, 46.61579, 46.62387, 46.62453, 46.615466, 46.61129, 46.61375, 46.62082, 46.61203, 46.61414, 46.61579], \"marker\": {\"size\": 10}, \"mode\": \"markers\", \"name\": \"Anomalie\", \"type\": \"scattermapbox\"}, {\"hoverinfo\": \"skip\", \"lat\": [24.72214, 24.72214], \"line\": {\"color\": \"red\", \"width\": 2.5}, \"lon\": [46.61519000000001, 46.61524], \"mode\": \"lines\", \"name\": \"link\", \"showlegend\": false, \"type\": \"scattermapbox\"}, {\"hoverinfo\": \"skip\", \"lat\": [24.73039, 24.73034], \"line\": {\"color\": \"red\", \"width\": 2.5}, \"lon\": [46.61412, 46.61405], \"mode\": \"lines\", \"name\": \"link\", \"showlegend\": false, \"type\": \"scattermapbox\"}, {\"hoverinfo\": \"skip\", \"lat\": [24.73033, 24.73026], \"line\": {\"color\": \"red\", \"width\": 2.5}, \"lon\": [46.61414, 46.61414], \"mode\": \"lines\", \"name\": \"link\", \"showlegend\": false, \"type\": \"scattermapbox\"}, {\"hoverinfo\": \"skip\", \"lat\": [24.73042, 24.73034], \"line\": {\"color\": \"red\", \"width\": 2.5}, \"lon\": [46.61403, 46.61405], \"mode\": \"lines\", \"name\": \"link\", \"showlegend\": false, \"type\": \"scattermapbox\"}, {\"hoverinfo\": \"skip\", \"lat\": [24.73031, 24.73034], \"line\": {\"color\": \"red\", \"width\": 2.5}, \"lon\": [46.6141, 46.61405], \"mode\": \"lines\", \"name\": \"link\", \"showlegend\": false, \"type\": \"scattermapbox\"}],\n",
              "                        {\"mapbox\": {\"accesstoken\": \"pk.eyJ1IjoiYWJveG1zYTNkIiwiYSI6ImNrdmcyam9veTAxYXcyb29kY3B1d2E4YnkifQ.aUL_zd92ZIrJtUxaHIvDqw\", \"center\": {\"lat\": 24.72381, \"lon\": 46.6276}, \"zoom\": 13.5}, \"template\": {\"data\": {\"bar\": [{\"error_x\": {\"color\": \"#2a3f5f\"}, \"error_y\": {\"color\": \"#2a3f5f\"}, \"marker\": {\"line\": {\"color\": \"#E5ECF6\", \"width\": 0.5}}, \"type\": \"bar\"}], \"barpolar\": [{\"marker\": {\"line\": {\"color\": \"#E5ECF6\", \"width\": 0.5}}, \"type\": \"barpolar\"}], \"carpet\": [{\"aaxis\": {\"endlinecolor\": \"#2a3f5f\", \"gridcolor\": \"white\", \"linecolor\": \"white\", \"minorgridcolor\": \"white\", \"startlinecolor\": \"#2a3f5f\"}, \"baxis\": {\"endlinecolor\": \"#2a3f5f\", \"gridcolor\": \"white\", \"linecolor\": \"white\", \"minorgridcolor\": \"white\", \"startlinecolor\": \"#2a3f5f\"}, \"type\": \"carpet\"}], \"choropleth\": [{\"colorbar\": {\"outlinewidth\": 0, \"ticks\": \"\"}, \"type\": \"choropleth\"}], \"contour\": [{\"colorbar\": {\"outlinewidth\": 0, \"ticks\": \"\"}, \"colorscale\": [[0.0, \"#0d0887\"], [0.1111111111111111, \"#46039f\"], [0.2222222222222222, \"#7201a8\"], [0.3333333333333333, \"#9c179e\"], [0.4444444444444444, \"#bd3786\"], [0.5555555555555556, \"#d8576b\"], [0.6666666666666666, \"#ed7953\"], [0.7777777777777778, \"#fb9f3a\"], [0.8888888888888888, \"#fdca26\"], [1.0, \"#f0f921\"]], \"type\": \"contour\"}], \"contourcarpet\": [{\"colorbar\": {\"outlinewidth\": 0, \"ticks\": \"\"}, \"type\": \"contourcarpet\"}], \"heatmap\": [{\"colorbar\": {\"outlinewidth\": 0, \"ticks\": \"\"}, \"colorscale\": [[0.0, \"#0d0887\"], [0.1111111111111111, \"#46039f\"], [0.2222222222222222, \"#7201a8\"], [0.3333333333333333, \"#9c179e\"], [0.4444444444444444, \"#bd3786\"], [0.5555555555555556, \"#d8576b\"], [0.6666666666666666, \"#ed7953\"], [0.7777777777777778, \"#fb9f3a\"], [0.8888888888888888, \"#fdca26\"], [1.0, \"#f0f921\"]], \"type\": \"heatmap\"}], \"heatmapgl\": [{\"colorbar\": {\"outlinewidth\": 0, \"ticks\": \"\"}, \"colorscale\": [[0.0, \"#0d0887\"], [0.1111111111111111, \"#46039f\"], [0.2222222222222222, \"#7201a8\"], [0.3333333333333333, \"#9c179e\"], [0.4444444444444444, \"#bd3786\"], [0.5555555555555556, \"#d8576b\"], [0.6666666666666666, \"#ed7953\"], [0.7777777777777778, \"#fb9f3a\"], [0.8888888888888888, \"#fdca26\"], [1.0, \"#f0f921\"]], \"type\": \"heatmapgl\"}], \"histogram\": [{\"marker\": {\"colorbar\": {\"outlinewidth\": 0, \"ticks\": \"\"}}, \"type\": \"histogram\"}], \"histogram2d\": [{\"colorbar\": {\"outlinewidth\": 0, \"ticks\": \"\"}, \"colorscale\": [[0.0, \"#0d0887\"], [0.1111111111111111, \"#46039f\"], [0.2222222222222222, \"#7201a8\"], [0.3333333333333333, \"#9c179e\"], [0.4444444444444444, \"#bd3786\"], [0.5555555555555556, \"#d8576b\"], [0.6666666666666666, \"#ed7953\"], [0.7777777777777778, \"#fb9f3a\"], [0.8888888888888888, \"#fdca26\"], [1.0, \"#f0f921\"]], \"type\": \"histogram2d\"}], \"histogram2dcontour\": [{\"colorbar\": {\"outlinewidth\": 0, \"ticks\": \"\"}, \"colorscale\": [[0.0, \"#0d0887\"], [0.1111111111111111, \"#46039f\"], [0.2222222222222222, \"#7201a8\"], [0.3333333333333333, \"#9c179e\"], [0.4444444444444444, \"#bd3786\"], [0.5555555555555556, \"#d8576b\"], [0.6666666666666666, \"#ed7953\"], [0.7777777777777778, \"#fb9f3a\"], [0.8888888888888888, \"#fdca26\"], [1.0, \"#f0f921\"]], \"type\": \"histogram2dcontour\"}], \"mesh3d\": [{\"colorbar\": {\"outlinewidth\": 0, \"ticks\": \"\"}, \"type\": \"mesh3d\"}], \"parcoords\": [{\"line\": {\"colorbar\": {\"outlinewidth\": 0, \"ticks\": \"\"}}, \"type\": \"parcoords\"}], \"pie\": [{\"automargin\": true, \"type\": \"pie\"}], \"scatter\": [{\"marker\": {\"colorbar\": {\"outlinewidth\": 0, \"ticks\": \"\"}}, \"type\": \"scatter\"}], \"scatter3d\": [{\"line\": {\"colorbar\": {\"outlinewidth\": 0, \"ticks\": \"\"}}, \"marker\": {\"colorbar\": {\"outlinewidth\": 0, \"ticks\": \"\"}}, \"type\": \"scatter3d\"}], \"scattercarpet\": [{\"marker\": {\"colorbar\": {\"outlinewidth\": 0, \"ticks\": \"\"}}, \"type\": \"scattercarpet\"}], \"scattergeo\": [{\"marker\": {\"colorbar\": {\"outlinewidth\": 0, \"ticks\": \"\"}}, \"type\": \"scattergeo\"}], \"scattergl\": [{\"marker\": {\"colorbar\": {\"outlinewidth\": 0, \"ticks\": \"\"}}, \"type\": \"scattergl\"}], \"scattermapbox\": [{\"marker\": {\"colorbar\": {\"outlinewidth\": 0, \"ticks\": \"\"}}, \"type\": \"scattermapbox\"}], \"scatterpolar\": [{\"marker\": {\"colorbar\": {\"outlinewidth\": 0, \"ticks\": \"\"}}, \"type\": \"scatterpolar\"}], \"scatterpolargl\": [{\"marker\": {\"colorbar\": {\"outlinewidth\": 0, \"ticks\": \"\"}}, \"type\": \"scatterpolargl\"}], \"scatterternary\": [{\"marker\": {\"colorbar\": {\"outlinewidth\": 0, \"ticks\": \"\"}}, \"type\": \"scatterternary\"}], \"surface\": [{\"colorbar\": {\"outlinewidth\": 0, \"ticks\": \"\"}, \"colorscale\": [[0.0, \"#0d0887\"], [0.1111111111111111, \"#46039f\"], [0.2222222222222222, \"#7201a8\"], [0.3333333333333333, \"#9c179e\"], [0.4444444444444444, \"#bd3786\"], [0.5555555555555556, \"#d8576b\"], [0.6666666666666666, \"#ed7953\"], [0.7777777777777778, \"#fb9f3a\"], [0.8888888888888888, \"#fdca26\"], [1.0, \"#f0f921\"]], \"type\": \"surface\"}], \"table\": [{\"cells\": {\"fill\": {\"color\": \"#EBF0F8\"}, \"line\": {\"color\": \"white\"}}, \"header\": {\"fill\": {\"color\": \"#C8D4E3\"}, \"line\": {\"color\": \"white\"}}, \"type\": \"table\"}]}, \"layout\": {\"annotationdefaults\": {\"arrowcolor\": \"#2a3f5f\", \"arrowhead\": 0, \"arrowwidth\": 1}, \"coloraxis\": {\"colorbar\": {\"outlinewidth\": 0, \"ticks\": \"\"}}, \"colorscale\": {\"diverging\": [[0, \"#8e0152\"], [0.1, \"#c51b7d\"], [0.2, \"#de77ae\"], [0.3, \"#f1b6da\"], [0.4, \"#fde0ef\"], [0.5, \"#f7f7f7\"], [0.6, \"#e6f5d0\"], [0.7, \"#b8e186\"], [0.8, \"#7fbc41\"], [0.9, \"#4d9221\"], [1, \"#276419\"]], \"sequential\": [[0.0, \"#0d0887\"], [0.1111111111111111, \"#46039f\"], [0.2222222222222222, \"#7201a8\"], [0.3333333333333333, \"#9c179e\"], [0.4444444444444444, \"#bd3786\"], [0.5555555555555556, \"#d8576b\"], [0.6666666666666666, \"#ed7953\"], [0.7777777777777778, \"#fb9f3a\"], [0.8888888888888888, \"#fdca26\"], [1.0, \"#f0f921\"]], \"sequentialminus\": [[0.0, \"#0d0887\"], [0.1111111111111111, \"#46039f\"], [0.2222222222222222, \"#7201a8\"], [0.3333333333333333, \"#9c179e\"], [0.4444444444444444, \"#bd3786\"], [0.5555555555555556, \"#d8576b\"], [0.6666666666666666, \"#ed7953\"], [0.7777777777777778, \"#fb9f3a\"], [0.8888888888888888, \"#fdca26\"], [1.0, \"#f0f921\"]]}, \"colorway\": [\"#636efa\", \"#EF553B\", \"#00cc96\", \"#ab63fa\", \"#FFA15A\", \"#19d3f3\", \"#FF6692\", \"#B6E880\", \"#FF97FF\", \"#FECB52\"], \"font\": {\"color\": \"#2a3f5f\"}, \"geo\": {\"bgcolor\": \"white\", \"lakecolor\": \"white\", \"landcolor\": \"#E5ECF6\", \"showlakes\": true, \"showland\": true, \"subunitcolor\": \"white\"}, \"hoverlabel\": {\"align\": \"left\"}, \"hovermode\": \"closest\", \"mapbox\": {\"style\": \"light\"}, \"paper_bgcolor\": \"white\", \"plot_bgcolor\": \"#E5ECF6\", \"polar\": {\"angularaxis\": {\"gridcolor\": \"white\", \"linecolor\": \"white\", \"ticks\": \"\"}, \"bgcolor\": \"#E5ECF6\", \"radialaxis\": {\"gridcolor\": \"white\", \"linecolor\": \"white\", \"ticks\": \"\"}}, \"scene\": {\"xaxis\": {\"backgroundcolor\": \"#E5ECF6\", \"gridcolor\": \"white\", \"gridwidth\": 2, \"linecolor\": \"white\", \"showbackground\": true, \"ticks\": \"\", \"zerolinecolor\": \"white\"}, \"yaxis\": {\"backgroundcolor\": \"#E5ECF6\", \"gridcolor\": \"white\", \"gridwidth\": 2, \"linecolor\": \"white\", \"showbackground\": true, \"ticks\": \"\", \"zerolinecolor\": \"white\"}, \"zaxis\": {\"backgroundcolor\": \"#E5ECF6\", \"gridcolor\": \"white\", \"gridwidth\": 2, \"linecolor\": \"white\", \"showbackground\": true, \"ticks\": \"\", \"zerolinecolor\": \"white\"}}, \"shapedefaults\": {\"line\": {\"color\": \"#2a3f5f\"}}, \"ternary\": {\"aaxis\": {\"gridcolor\": \"white\", \"linecolor\": \"white\", \"ticks\": \"\"}, \"baxis\": {\"gridcolor\": \"white\", \"linecolor\": \"white\", \"ticks\": \"\"}, \"bgcolor\": \"#E5ECF6\", \"caxis\": {\"gridcolor\": \"white\", \"linecolor\": \"white\", \"ticks\": \"\"}}, \"title\": {\"x\": 0.05}, \"xaxis\": {\"automargin\": true, \"gridcolor\": \"white\", \"linecolor\": \"white\", \"ticks\": \"\", \"title\": {\"standoff\": 15}, \"zerolinecolor\": \"white\", \"zerolinewidth\": 2}, \"yaxis\": {\"automargin\": true, \"gridcolor\": \"white\", \"linecolor\": \"white\", \"ticks\": \"\", \"title\": {\"standoff\": 15}, \"zerolinecolor\": \"white\", \"zerolinewidth\": 2}}}},\n",
              "                        {\"responsive\": true}\n",
              "                    ).then(function(){\n",
              "                            \n",
              "var gd = document.getElementById('27ad1eb9-3f49-4b50-8934-65f02f6f5575');\n",
              "var x = new MutationObserver(function (mutations, observer) {{\n",
              "        var display = window.getComputedStyle(gd).display;\n",
              "        if (!display || display === 'none') {{\n",
              "            console.log([gd, 'removed!']);\n",
              "            Plotly.purge(gd);\n",
              "            observer.disconnect();\n",
              "        }}\n",
              "}});\n",
              "\n",
              "// Listen for the removal of the full notebook cells\n",
              "var notebookContainer = gd.closest('#notebook-container');\n",
              "if (notebookContainer) {{\n",
              "    x.observe(notebookContainer, {childList: true});\n",
              "}}\n",
              "\n",
              "// Listen for the clearing of the current output cell\n",
              "var outputEl = gd.closest('.output');\n",
              "if (outputEl) {{\n",
              "    x.observe(outputEl, {childList: true});\n",
              "}}\n",
              "\n",
              "                        })\n",
              "                };\n",
              "                \n",
              "            </script>\n",
              "        </div>\n",
              "</body>\n",
              "</html>"
            ]
          },
          "metadata": {}
        }
      ]
    },
    {
      "cell_type": "markdown",
      "metadata": {
        "id": "wCLsO7fmvhI5"
      },
      "source": [
        "## Only Accident due to Anomalie"
      ]
    },
    {
      "cell_type": "code",
      "metadata": {
        "colab": {
          "base_uri": "https://localhost:8080/",
          "height": 542
        },
        "id": "Sp38iAowMDEG",
        "outputId": "51e13075-a56e-4ecd-fcc8-cfbfaf8afdfa"
      },
      "source": [
        "fig = go.Figure()\n",
        "fig.add_traces(\n",
        "    go.Scattermapbox(\n",
        "        lat=df_accident_due_to_anomalie['latitude_accident'],\n",
        "        lon=df_accident_due_to_anomalie['longitude_accident'],\n",
        "        mode='markers',\n",
        "        name = \"Accident\",\n",
        "        hovertext=\"Accident\",\n",
        "        marker_size=10,\n",
        "    )\n",
        ")\n",
        "fig.add_traces(\n",
        "    go.Scattermapbox(\n",
        "        lat=df_accident_due_to_anomalie['latitude_anomalie'],\n",
        "        lon=df_accident_due_to_anomalie['longitude_anomalie'],\n",
        "        mode='markers',\n",
        "        name = \"Anomalie\",\n",
        "        hovertext=\"Anomalie\",\n",
        "        marker_size=10,\n",
        "    )\n",
        ")\n",
        "  \n",
        "for index, row in df_accident_due_to_anomalie.iterrows():\n",
        "  fig.add_traces(\n",
        "    go.Scattermapbox(\n",
        "        lat=[row.latitude_accident,row.latitude_anomalie],\n",
        "        lon=[row.longitude_accident,row.longitude_anomalie],\n",
        "        mode='lines',\n",
        "        line_width = 2.5 ,\n",
        "        line_color = \"red\",\n",
        "        showlegend = False,\n",
        "        hoverinfo = \"skip\",\n",
        "      )\n",
        ")\n",
        "\n",
        "fig.update_layout(\n",
        "    mapbox=dict(\n",
        "        accesstoken=\"pk.eyJ1IjoiYWJveG1zYTNkIiwiYSI6ImNrdmcyam9veTAxYXcyb29kY3B1d2E4YnkifQ.aUL_zd92ZIrJtUxaHIvDqw\", #\n",
        "        center=go.layout.mapbox.Center(lat=24.72381, lon=46.6276),\n",
        "        zoom=13.5,\n",
        "    )\n",
        ")\n",
        "\n",
        "fig.show()"
      ],
      "execution_count": null,
      "outputs": [
        {
          "output_type": "display_data",
          "data": {
            "text/html": [
              "<html>\n",
              "<head><meta charset=\"utf-8\" /></head>\n",
              "<body>\n",
              "    <div>\n",
              "            <script src=\"https://cdnjs.cloudflare.com/ajax/libs/mathjax/2.7.5/MathJax.js?config=TeX-AMS-MML_SVG\"></script><script type=\"text/javascript\">if (window.MathJax) {MathJax.Hub.Config({SVG: {font: \"STIX-Web\"}});}</script>\n",
              "                <script type=\"text/javascript\">window.PlotlyConfig = {MathJaxConfig: 'local'};</script>\n",
              "        <script src=\"https://cdn.plot.ly/plotly-latest.min.js\"></script>    \n",
              "            <div id=\"cfeecad4-6edc-4a34-b4d1-acea59dadef7\" class=\"plotly-graph-div\" style=\"height:525px; width:100%;\"></div>\n",
              "            <script type=\"text/javascript\">\n",
              "                \n",
              "                    window.PLOTLYENV=window.PLOTLYENV || {};\n",
              "                    \n",
              "                if (document.getElementById(\"cfeecad4-6edc-4a34-b4d1-acea59dadef7\")) {\n",
              "                    Plotly.newPlot(\n",
              "                        'cfeecad4-6edc-4a34-b4d1-acea59dadef7',\n",
              "                        [{\"hovertext\": \"Accident\", \"lat\": [24.72214, 24.73039, 24.73033, 24.73042, 24.73031], \"lon\": [46.61519000000001, 46.61412, 46.61414, 46.61403, 46.6141], \"marker\": {\"size\": 10}, \"mode\": \"markers\", \"name\": \"Accident\", \"type\": \"scattermapbox\"}, {\"hovertext\": \"Anomalie\", \"lat\": [24.72214, 24.73034, 24.73026, 24.73034, 24.73034], \"lon\": [46.61524, 46.61405, 46.61414, 46.61405, 46.61405], \"marker\": {\"size\": 10}, \"mode\": \"markers\", \"name\": \"Anomalie\", \"type\": \"scattermapbox\"}, {\"hoverinfo\": \"skip\", \"lat\": [24.72214, 24.72214], \"line\": {\"color\": \"red\", \"width\": 2.5}, \"lon\": [46.61519000000001, 46.61524], \"mode\": \"lines\", \"showlegend\": false, \"type\": \"scattermapbox\"}, {\"hoverinfo\": \"skip\", \"lat\": [24.73039, 24.73034], \"line\": {\"color\": \"red\", \"width\": 2.5}, \"lon\": [46.61412, 46.61405], \"mode\": \"lines\", \"showlegend\": false, \"type\": \"scattermapbox\"}, {\"hoverinfo\": \"skip\", \"lat\": [24.73033, 24.73026], \"line\": {\"color\": \"red\", \"width\": 2.5}, \"lon\": [46.61414, 46.61414], \"mode\": \"lines\", \"showlegend\": false, \"type\": \"scattermapbox\"}, {\"hoverinfo\": \"skip\", \"lat\": [24.73042, 24.73034], \"line\": {\"color\": \"red\", \"width\": 2.5}, \"lon\": [46.61403, 46.61405], \"mode\": \"lines\", \"showlegend\": false, \"type\": \"scattermapbox\"}, {\"hoverinfo\": \"skip\", \"lat\": [24.73031, 24.73034], \"line\": {\"color\": \"red\", \"width\": 2.5}, \"lon\": [46.6141, 46.61405], \"mode\": \"lines\", \"showlegend\": false, \"type\": \"scattermapbox\"}],\n",
              "                        {\"mapbox\": {\"accesstoken\": \"pk.eyJ1IjoiYWJveG1zYTNkIiwiYSI6ImNrdmcyam9veTAxYXcyb29kY3B1d2E4YnkifQ.aUL_zd92ZIrJtUxaHIvDqw\", \"center\": {\"lat\": 24.72381, \"lon\": 46.6276}, \"zoom\": 13.5}, \"template\": {\"data\": {\"bar\": [{\"error_x\": {\"color\": \"#2a3f5f\"}, \"error_y\": {\"color\": \"#2a3f5f\"}, \"marker\": {\"line\": {\"color\": \"#E5ECF6\", \"width\": 0.5}}, \"type\": \"bar\"}], \"barpolar\": [{\"marker\": {\"line\": {\"color\": \"#E5ECF6\", \"width\": 0.5}}, \"type\": \"barpolar\"}], \"carpet\": [{\"aaxis\": {\"endlinecolor\": \"#2a3f5f\", \"gridcolor\": \"white\", \"linecolor\": \"white\", \"minorgridcolor\": \"white\", \"startlinecolor\": \"#2a3f5f\"}, \"baxis\": {\"endlinecolor\": \"#2a3f5f\", \"gridcolor\": \"white\", \"linecolor\": \"white\", \"minorgridcolor\": \"white\", \"startlinecolor\": \"#2a3f5f\"}, \"type\": \"carpet\"}], \"choropleth\": [{\"colorbar\": {\"outlinewidth\": 0, \"ticks\": \"\"}, \"type\": \"choropleth\"}], \"contour\": [{\"colorbar\": {\"outlinewidth\": 0, \"ticks\": \"\"}, \"colorscale\": [[0.0, \"#0d0887\"], [0.1111111111111111, \"#46039f\"], [0.2222222222222222, \"#7201a8\"], [0.3333333333333333, \"#9c179e\"], [0.4444444444444444, \"#bd3786\"], [0.5555555555555556, \"#d8576b\"], [0.6666666666666666, \"#ed7953\"], [0.7777777777777778, \"#fb9f3a\"], [0.8888888888888888, \"#fdca26\"], [1.0, \"#f0f921\"]], \"type\": \"contour\"}], \"contourcarpet\": [{\"colorbar\": {\"outlinewidth\": 0, \"ticks\": \"\"}, \"type\": \"contourcarpet\"}], \"heatmap\": [{\"colorbar\": {\"outlinewidth\": 0, \"ticks\": \"\"}, \"colorscale\": [[0.0, \"#0d0887\"], [0.1111111111111111, \"#46039f\"], [0.2222222222222222, \"#7201a8\"], [0.3333333333333333, \"#9c179e\"], [0.4444444444444444, \"#bd3786\"], [0.5555555555555556, \"#d8576b\"], [0.6666666666666666, \"#ed7953\"], [0.7777777777777778, \"#fb9f3a\"], [0.8888888888888888, \"#fdca26\"], [1.0, \"#f0f921\"]], \"type\": \"heatmap\"}], \"heatmapgl\": [{\"colorbar\": {\"outlinewidth\": 0, \"ticks\": \"\"}, \"colorscale\": [[0.0, \"#0d0887\"], [0.1111111111111111, \"#46039f\"], [0.2222222222222222, \"#7201a8\"], [0.3333333333333333, \"#9c179e\"], [0.4444444444444444, \"#bd3786\"], [0.5555555555555556, \"#d8576b\"], [0.6666666666666666, \"#ed7953\"], [0.7777777777777778, \"#fb9f3a\"], [0.8888888888888888, \"#fdca26\"], [1.0, \"#f0f921\"]], \"type\": \"heatmapgl\"}], \"histogram\": [{\"marker\": {\"colorbar\": {\"outlinewidth\": 0, \"ticks\": \"\"}}, \"type\": \"histogram\"}], \"histogram2d\": [{\"colorbar\": {\"outlinewidth\": 0, \"ticks\": \"\"}, \"colorscale\": [[0.0, \"#0d0887\"], [0.1111111111111111, \"#46039f\"], [0.2222222222222222, \"#7201a8\"], [0.3333333333333333, \"#9c179e\"], [0.4444444444444444, \"#bd3786\"], [0.5555555555555556, \"#d8576b\"], [0.6666666666666666, \"#ed7953\"], [0.7777777777777778, \"#fb9f3a\"], [0.8888888888888888, \"#fdca26\"], [1.0, \"#f0f921\"]], \"type\": \"histogram2d\"}], \"histogram2dcontour\": [{\"colorbar\": {\"outlinewidth\": 0, \"ticks\": \"\"}, \"colorscale\": [[0.0, \"#0d0887\"], [0.1111111111111111, \"#46039f\"], [0.2222222222222222, \"#7201a8\"], [0.3333333333333333, \"#9c179e\"], [0.4444444444444444, \"#bd3786\"], [0.5555555555555556, \"#d8576b\"], [0.6666666666666666, \"#ed7953\"], [0.7777777777777778, \"#fb9f3a\"], [0.8888888888888888, \"#fdca26\"], [1.0, \"#f0f921\"]], \"type\": \"histogram2dcontour\"}], \"mesh3d\": [{\"colorbar\": {\"outlinewidth\": 0, \"ticks\": \"\"}, \"type\": \"mesh3d\"}], \"parcoords\": [{\"line\": {\"colorbar\": {\"outlinewidth\": 0, \"ticks\": \"\"}}, \"type\": \"parcoords\"}], \"pie\": [{\"automargin\": true, \"type\": \"pie\"}], \"scatter\": [{\"marker\": {\"colorbar\": {\"outlinewidth\": 0, \"ticks\": \"\"}}, \"type\": \"scatter\"}], \"scatter3d\": [{\"line\": {\"colorbar\": {\"outlinewidth\": 0, \"ticks\": \"\"}}, \"marker\": {\"colorbar\": {\"outlinewidth\": 0, \"ticks\": \"\"}}, \"type\": \"scatter3d\"}], \"scattercarpet\": [{\"marker\": {\"colorbar\": {\"outlinewidth\": 0, \"ticks\": \"\"}}, \"type\": \"scattercarpet\"}], \"scattergeo\": [{\"marker\": {\"colorbar\": {\"outlinewidth\": 0, \"ticks\": \"\"}}, \"type\": \"scattergeo\"}], \"scattergl\": [{\"marker\": {\"colorbar\": {\"outlinewidth\": 0, \"ticks\": \"\"}}, \"type\": \"scattergl\"}], \"scattermapbox\": [{\"marker\": {\"colorbar\": {\"outlinewidth\": 0, \"ticks\": \"\"}}, \"type\": \"scattermapbox\"}], \"scatterpolar\": [{\"marker\": {\"colorbar\": {\"outlinewidth\": 0, \"ticks\": \"\"}}, \"type\": \"scatterpolar\"}], \"scatterpolargl\": [{\"marker\": {\"colorbar\": {\"outlinewidth\": 0, \"ticks\": \"\"}}, \"type\": \"scatterpolargl\"}], \"scatterternary\": [{\"marker\": {\"colorbar\": {\"outlinewidth\": 0, \"ticks\": \"\"}}, \"type\": \"scatterternary\"}], \"surface\": [{\"colorbar\": {\"outlinewidth\": 0, \"ticks\": \"\"}, \"colorscale\": [[0.0, \"#0d0887\"], [0.1111111111111111, \"#46039f\"], [0.2222222222222222, \"#7201a8\"], [0.3333333333333333, \"#9c179e\"], [0.4444444444444444, \"#bd3786\"], [0.5555555555555556, \"#d8576b\"], [0.6666666666666666, \"#ed7953\"], [0.7777777777777778, \"#fb9f3a\"], [0.8888888888888888, \"#fdca26\"], [1.0, \"#f0f921\"]], \"type\": \"surface\"}], \"table\": [{\"cells\": {\"fill\": {\"color\": \"#EBF0F8\"}, \"line\": {\"color\": \"white\"}}, \"header\": {\"fill\": {\"color\": \"#C8D4E3\"}, \"line\": {\"color\": \"white\"}}, \"type\": \"table\"}]}, \"layout\": {\"annotationdefaults\": {\"arrowcolor\": \"#2a3f5f\", \"arrowhead\": 0, \"arrowwidth\": 1}, \"coloraxis\": {\"colorbar\": {\"outlinewidth\": 0, \"ticks\": \"\"}}, \"colorscale\": {\"diverging\": [[0, \"#8e0152\"], [0.1, \"#c51b7d\"], [0.2, \"#de77ae\"], [0.3, \"#f1b6da\"], [0.4, \"#fde0ef\"], [0.5, \"#f7f7f7\"], [0.6, \"#e6f5d0\"], [0.7, \"#b8e186\"], [0.8, \"#7fbc41\"], [0.9, \"#4d9221\"], [1, \"#276419\"]], \"sequential\": [[0.0, \"#0d0887\"], [0.1111111111111111, \"#46039f\"], [0.2222222222222222, \"#7201a8\"], [0.3333333333333333, \"#9c179e\"], [0.4444444444444444, \"#bd3786\"], [0.5555555555555556, \"#d8576b\"], [0.6666666666666666, \"#ed7953\"], [0.7777777777777778, \"#fb9f3a\"], [0.8888888888888888, \"#fdca26\"], [1.0, \"#f0f921\"]], \"sequentialminus\": [[0.0, \"#0d0887\"], [0.1111111111111111, \"#46039f\"], [0.2222222222222222, \"#7201a8\"], [0.3333333333333333, \"#9c179e\"], [0.4444444444444444, \"#bd3786\"], [0.5555555555555556, \"#d8576b\"], [0.6666666666666666, \"#ed7953\"], [0.7777777777777778, \"#fb9f3a\"], [0.8888888888888888, \"#fdca26\"], [1.0, \"#f0f921\"]]}, \"colorway\": [\"#636efa\", \"#EF553B\", \"#00cc96\", \"#ab63fa\", \"#FFA15A\", \"#19d3f3\", \"#FF6692\", \"#B6E880\", \"#FF97FF\", \"#FECB52\"], \"font\": {\"color\": \"#2a3f5f\"}, \"geo\": {\"bgcolor\": \"white\", \"lakecolor\": \"white\", \"landcolor\": \"#E5ECF6\", \"showlakes\": true, \"showland\": true, \"subunitcolor\": \"white\"}, \"hoverlabel\": {\"align\": \"left\"}, \"hovermode\": \"closest\", \"mapbox\": {\"style\": \"light\"}, \"paper_bgcolor\": \"white\", \"plot_bgcolor\": \"#E5ECF6\", \"polar\": {\"angularaxis\": {\"gridcolor\": \"white\", \"linecolor\": \"white\", \"ticks\": \"\"}, \"bgcolor\": \"#E5ECF6\", \"radialaxis\": {\"gridcolor\": \"white\", \"linecolor\": \"white\", \"ticks\": \"\"}}, \"scene\": {\"xaxis\": {\"backgroundcolor\": \"#E5ECF6\", \"gridcolor\": \"white\", \"gridwidth\": 2, \"linecolor\": \"white\", \"showbackground\": true, \"ticks\": \"\", \"zerolinecolor\": \"white\"}, \"yaxis\": {\"backgroundcolor\": \"#E5ECF6\", \"gridcolor\": \"white\", \"gridwidth\": 2, \"linecolor\": \"white\", \"showbackground\": true, \"ticks\": \"\", \"zerolinecolor\": \"white\"}, \"zaxis\": {\"backgroundcolor\": \"#E5ECF6\", \"gridcolor\": \"white\", \"gridwidth\": 2, \"linecolor\": \"white\", \"showbackground\": true, \"ticks\": \"\", \"zerolinecolor\": \"white\"}}, \"shapedefaults\": {\"line\": {\"color\": \"#2a3f5f\"}}, \"ternary\": {\"aaxis\": {\"gridcolor\": \"white\", \"linecolor\": \"white\", \"ticks\": \"\"}, \"baxis\": {\"gridcolor\": \"white\", \"linecolor\": \"white\", \"ticks\": \"\"}, \"bgcolor\": \"#E5ECF6\", \"caxis\": {\"gridcolor\": \"white\", \"linecolor\": \"white\", \"ticks\": \"\"}}, \"title\": {\"x\": 0.05}, \"xaxis\": {\"automargin\": true, \"gridcolor\": \"white\", \"linecolor\": \"white\", \"ticks\": \"\", \"title\": {\"standoff\": 15}, \"zerolinecolor\": \"white\", \"zerolinewidth\": 2}, \"yaxis\": {\"automargin\": true, \"gridcolor\": \"white\", \"linecolor\": \"white\", \"ticks\": \"\", \"title\": {\"standoff\": 15}, \"zerolinecolor\": \"white\", \"zerolinewidth\": 2}}}},\n",
              "                        {\"responsive\": true}\n",
              "                    ).then(function(){\n",
              "                            \n",
              "var gd = document.getElementById('cfeecad4-6edc-4a34-b4d1-acea59dadef7');\n",
              "var x = new MutationObserver(function (mutations, observer) {{\n",
              "        var display = window.getComputedStyle(gd).display;\n",
              "        if (!display || display === 'none') {{\n",
              "            console.log([gd, 'removed!']);\n",
              "            Plotly.purge(gd);\n",
              "            observer.disconnect();\n",
              "        }}\n",
              "}});\n",
              "\n",
              "// Listen for the removal of the full notebook cells\n",
              "var notebookContainer = gd.closest('#notebook-container');\n",
              "if (notebookContainer) {{\n",
              "    x.observe(notebookContainer, {childList: true});\n",
              "}}\n",
              "\n",
              "// Listen for the clearing of the current output cell\n",
              "var outputEl = gd.closest('.output');\n",
              "if (outputEl) {{\n",
              "    x.observe(outputEl, {childList: true});\n",
              "}}\n",
              "\n",
              "                        })\n",
              "                };\n",
              "                \n",
              "            </script>\n",
              "        </div>\n",
              "</body>\n",
              "</html>"
            ]
          },
          "metadata": {}
        }
      ]
    },
    {
      "cell_type": "markdown",
      "metadata": {
        "id": "19NvxpGPONRU"
      },
      "source": [
        "# Conclusion"
      ]
    },
    {
      "cell_type": "markdown",
      "metadata": {
        "id": "-VCmh5cbzxtQ"
      },
      "source": [
        "### (1) number of anomalies that caused accidents"
      ]
    },
    {
      "cell_type": "code",
      "metadata": {
        "id": "MXghZLa8zoaY"
      },
      "source": [
        "anomalie_cause_accident = df_accident_due_to_anomalie['id_anomalie'].nunique()\n",
        "accident_due_to_anomalie_number = df_accident_due_to_anomalie['id_accident'].count() "
      ],
      "execution_count": null,
      "outputs": []
    },
    {
      "cell_type": "code",
      "metadata": {
        "colab": {
          "base_uri": "https://localhost:8080/"
        },
        "id": "gFr06AzP2ast",
        "outputId": "9de6e1c4-8dc7-4a89-c1c1-02719d70bfc3"
      },
      "source": [
        "print(\"There is (\" , anomalie_cause_accident , \") anomalies that caused (\" , accident_due_to_anomalie_number , \") accidents.\" )"
      ],
      "execution_count": null,
      "outputs": [
        {
          "output_type": "stream",
          "name": "stdout",
          "text": [
            "There is ( 3 ) anomalies that caused ( 5 ) accidents.\n"
          ]
        }
      ]
    },
    {
      "cell_type": "markdown",
      "metadata": {
        "id": "l018DYAPzvf2"
      },
      "source": [
        "### (2) Number of accidents happend due to anomalie"
      ]
    },
    {
      "cell_type": "code",
      "metadata": {
        "id": "XRaydP01OQX7"
      },
      "source": [
        "total_accident = df_accident['id'].count()\n",
        "accident_due_to_anomalie_number = df_accident_due_to_anomalie['id_accident'].count() \n",
        "\n",
        "accident_due_to_anomalie_per = accident_due_to_anomalie_number / total_accident\n",
        "accident_due_to_anomalie_per = round(accident_due_to_anomalie_per*100, 2)"
      ],
      "execution_count": null,
      "outputs": []
    },
    {
      "cell_type": "code",
      "metadata": {
        "colab": {
          "base_uri": "https://localhost:8080/"
        },
        "id": "gSUMmrP-x_7I",
        "outputId": "dc621d32-3d89-4c31-fa62-65894c334964"
      },
      "source": [
        "print(\"There is (\" , accident_due_to_anomalie_number , \") accidents happend due to anomalie, out of (\" , total_accident , \") accident.\" )\n",
        "print(\"This represents (\", accident_due_to_anomalie_per ,\"% ) of accidents happend due to anomalie.\")"
      ],
      "execution_count": null,
      "outputs": [
        {
          "output_type": "stream",
          "name": "stdout",
          "text": [
            "There is ( 5 ) accidents happend due to anomalie, out of ( 20 ) accident.\n",
            "This represents ( 25.0 % ) of accidents happend due to anomalie.\n"
          ]
        }
      ]
    }
  ]
}